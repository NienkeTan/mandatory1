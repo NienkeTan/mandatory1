{
 "cells": [
  {
   "cell_type": "markdown",
   "metadata": {},
   "source": [
    "## 1.2.3 Exact solution"
   ]
  },
  {
   "cell_type": "markdown",
   "metadata": {},
   "source": [
    "For implementing the Wave 2D class, $\\omega$ can be calculated by inserting the exact solution of the wave equation into this equation to isolate $\\omega$. Then you find\n",
    "\\begin{align}\n",
    "\\omega = \\sqrt{c^2 (k_x^2 + k_y^2)}\n",
    "\\end{align}\n",
    "\n",
    "Now I will insert the stationary solution into the wave equation. But by first calculating the second derivatives to $t$, $x$, $y$:\n",
    "\\begin{align*}\n",
    "\\frac{\\partial^2u}{\\partial t^2} &= \\frac{\\partial}{\\partial t} (-i \\omega e^{i (k_x x + k_y y - \\omega t)}) \\\\\n",
    "&= i^2 \\omega^2 e^{i (k_x x + k_y y - \\omega t)} \\\\\n",
    "&= -\\omega^2 e^{i (k_x x + k_y y - \\omega t)}\n",
    "\\end{align*}\n",
    "\n",
    "\\begin{align*}\n",
    "\\frac{\\partial^2u}{\\partial x^2} &= \\frac{\\partial}{\\partial x} (-i k_x e^{i (k_x x + k_y y - \\omega t)}) \\\\\n",
    "&= i^2 k_x^2 e^{i (k_x x + k_y y - \\omega t)} \\\\\n",
    "&= -k_x^2 e^{i (k_x x + k_y y - \\omega t)}\n",
    "\\end{align*}\n",
    "\n",
    "\\begin{align*}\n",
    "\\frac{\\partial^2u}{\\partial y^2} &= \\frac{\\partial}{\\partial y} (-i k_y e^{i (k_x x + k_y y - \\omega t)}) \\\\\n",
    "&= i^2 k_y^2 e^{i (k_x x + k_y y - \\omega t)} \\\\\n",
    "&= -k_y^2 e^{i (k_x x + k_y y - \\omega t)}\n",
    "\\end{align*}\n",
    "\n",
    "Inserting into the wave equation and using (1) gives\n",
    "\\begin{align*}\n",
    "-\\omega^2 e^{i (k_x x + k_y y - \\omega t)} &= c^2 (-k_x^2 e^{i (k_x x + k_y y - \\omega t)} -k_y^2 e^{i (k_x x + k_y y - \\omega t)}) \\\\\n",
    "\\omega^2 e^{i (k_x x + k_y y - \\omega t)} &= c^2 (k_x^2 + k_y^2)e^{i (k_x x + k_y y - \\omega t)} \\\\\n",
    "\\omega^2 e^{i (k_x x + k_y y - \\omega t)} &= \\omega^2 e^{i (k_x x + k_y y - \\omega t)},\n",
    "\\end{align*}\n",
    "thus satisfying the wave equation."
   ]
  },
  {
   "cell_type": "markdown",
   "metadata": {},
   "source": [
    "\n",
    "## 1.2.4 Dispersion coefficient"
   ]
  },
  {
   "cell_type": "markdown",
   "metadata": {},
   "source": [
    "To not get confused with the index $i$ and the imaginary $i$, I will use new indexing $s$ and $r$. Inserting gives\n",
    "\\begin{gather*}\n",
    "\\frac{e^{ikhs}e^{ikhr}e^{i\\tilde w (n+1) \\Delta t} -2e^{ikhs}e^{ikhr}e^{i\\tilde w n \\Delta t} + e^{ikhs}e^{ikhr}e^{i\\tilde w (n-1) \\Delta t}}{\\Delta t^2} = c^2 \\Big(  \\frac{e^{ikh(s+1)}e^{ikhr}e^{i\\tilde w n \\Delta t} -2e^{ikhs}e^{ikhr}e^{i\\tilde w n \\Delta t} + e^{ikh(s-1)}e^{ikhr}e^{i\\tilde w n \\Delta t}}{h^2} + \\frac{e^{ikhs}e^{ikh(r+1)}e^{i\\tilde w n \\Delta t} -2e^{ikhs}e^{ikhr}e^{i\\tilde w n \\Delta t} + e^{ikhs}e^{ikh(r-1)}e^{i\\tilde w n \\Delta t}}{h^2}\\Big)\\\\\n",
    "e^{ikhs}e^{ikhr}e^{i\\tilde w (n+1) \\Delta t} -2e^{ikhs}e^{ikhr}e^{i\\tilde w n \\Delta t} + e^{ikhs}e^{ikhr}e^{i\\tilde w (n-1) \\Delta t} = C^2 \\Big(e^{ikh(s+1)}e^{ikhr}e^{i\\tilde w n \\Delta t} -2e^{ikhs}e^{ikhr}e^{i\\tilde w n \\Delta t} + e^{ikh(s-1)}e^{ikhr}e^{i\\tilde w n \\Delta t} + e^{ikhs}e^{ikh(r+1)}e^{i\\tilde w n \\Delta t} -2e^{ikhs}e^{ikhr}e^{i\\tilde w n \\Delta t} + e^{ikhs}e^{ikh(r-1)}e^{i\\tilde w n \\Delta t} \\Big) \\\\\n",
    "e^{ikhs}e^{ikhr}e^{i\\tilde w (n+1) \\Delta t} -2e^{ikhs}e^{ikhr}e^{i\\tilde w n \\Delta t} + e^{ikhs}e^{ikhr}e^{i\\tilde w (n-1) \\Delta t} = \\frac{1}{2} \\Big(e^{ikh(s+1)}e^{ikhr}e^{i\\tilde w n \\Delta t} -2e^{ikhs}e^{ikhr}e^{i\\tilde w n \\Delta t} + e^{ikh(s-1)}e^{ikhr}e^{i\\tilde w n \\Delta t} + e^{ikhs}e^{ikh(r+1)}e^{i\\tilde w n \\Delta t} -2e^{ikhs}e^{ikhr}e^{i\\tilde w n \\Delta t} + e^{ikhs}e^{ikh(r-1)}e^{i\\tilde w n \\Delta t} \\Big) \\\\\n",
    "e^{ikhs}e^{ikhr}e^{i\\tilde w (n+1) \\Delta t}+ e^{ikhs}e^{ikhr}e^{i\\tilde w (n-1) \\Delta t} = \\frac{1}{2}e^{ikh(s+1)}e^{ikhr}e^{i\\tilde w n \\Delta t} + \\frac{1}{2}e^{ikh(s-1)}e^{ikhr}e^{i\\tilde w n \\Delta t} + \\frac{1}{2}e^{ikhs}e^{ikh(r+1)}e^{i\\tilde w n \\Delta t}+ \\frac{1}{2}e^{ikhs}e^{ikh(r-1)}e^{i\\tilde w n \\Delta t}&&\n",
    "\\end{gather*}\n",
    "\n",
    "Divide by $e^{i\\tilde w n \\Delta t}$:\n",
    "\\begin{gather*}\n",
    "e^{ikhs}e^{ikhr}e^{i\\tilde w \\Delta t} + e^{ikhs}e^{ikhr}e^{-i\\tilde w \\Delta t} = \\frac{1}{2}e^{ikh(s+1)}e^{ikhr} + \\frac{1}{2}e^{ikh(s-1)}e^{ikhr}+ \\frac{1}{2}e^{ikhs}e^{ikh(r+1)} + \\frac{1}{2}e^{ikhs}e^{ikh(r-1)}\n",
    "\\end{gather*}\n",
    "\n",
    "Divide by $e^{ikhs}e^{ikhr}$:\n",
    "\\begin{gather*}\n",
    "e^{i\\tilde w \\Delta t} + e^{-i\\tilde w \\Delta t} = \\frac{1}{2}e^{ikh} + \\frac{1}{2}e^{-ikh}+ \\frac{1}{2}e^{ikh} + \\frac{1}{2}e^{-ikh} \\\\\n",
    "= e^{ikh} + e^{-ikh}\n",
    "\\end{gather*}\n",
    "\n",
    "Rewriting using Euler's formula\n",
    "\\begin{gather*}\n",
    "2\\cos(\\tilde w \\Delta t)  = 2\\cos(kh)\n",
    "\\end{gather*}\n",
    "\n",
    "So $\\tilde w \\Delta t = kh$, which means that $\\tilde w = \\frac{kh}{\\Delta t}$. Since $w = kc$ for the analytic solution, we can substitute this into the equation.\n",
    "\\begin{gather*}\n",
    "\\tilde w = \\frac{w h}{c\\Delta t} = \\frac{w }{C} = w \\sqrt{2}\n",
    "\\end{gather*}\n",
    "which doesn't quite add up..?"
   ]
  }
 ],
 "metadata": {
  "language_info": {
   "name": "python"
  }
 },
 "nbformat": 4,
 "nbformat_minor": 2
}
